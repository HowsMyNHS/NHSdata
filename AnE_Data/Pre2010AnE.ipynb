{
 "cells": [
  {
   "cell_type": "markdown",
   "metadata": {},
   "source": [
    "# Pre-2010 A&E data\n",
    "\n",
    "Main data page: https://webarchive.nationalarchives.gov.uk/20130104202128/http://www.dh.gov.uk/en/Publicationsandstatistics/Statistics/Performancedataandstatistics/AccidentandEmergency/DH_079085"
   ]
  },
  {
   "cell_type": "code",
   "execution_count": 1,
   "metadata": {},
   "outputs": [],
   "source": [
    "import numpy as np\n",
    "import importlib\n",
    "import requests, bs4, os\n",
    "import pandas as pd\n",
    "import numpy as np\n",
    "from time import strptime\n",
    "import matplotlib.patheffects as pe\n",
    "\n",
    "def getOnlineXLS(url, file = 'tempfile.xls'):\n",
    "    resp = requests.get(pref + url)\n",
    "    # Store the data in a temporary file\n",
    "    tempfile = open(file, 'wb')\n",
    "    tempfile.write(resp.content)\n",
    "    tempfile.close()\n",
    "    return 0\n",
    "\n",
    "def get_xls_files(pages, verbose = 0):\n",
    "    '''\n",
    "    Collects the names of the relevent xls files from the given list of webpages\n",
    "    '''\n",
    "    xls_file_names = []\n",
    "\n",
    "    for name in pages:\n",
    "        #print(\"Looking at page: \", name, '\\n')\n",
    "        res = requests.get(name)\n",
    "        soup = bs4.BeautifulSoup(res.content, features=\"lxml\")\n",
    "        linkElems = soup.select(\"a\")\n",
    "        for elem in linkElems:\n",
    "            if '.xls' in elem.get('href'):\n",
    "                xls_file_names.append(elem.get('href'))\n",
    "                \n",
    "    if verbose >= 10:\n",
    "        print(\"Total of {} xls files found.\".format(len(xls_file_names)))\n",
    "        \n",
    "    return xls_file_names\n",
    "\n",
    "pref = \"https://webarchive.nationalarchives.gov.uk/\"\n",
    "def get_all_names(firstSheet, file = 'tempfile.xls', verbose = 0):\n",
    "    getOnlineXLS(firstSheet)\n",
    "    sheetName = findFirstVisible(file)\n",
    "    sheet = pd.read_excel(file, sheet_name=sheetName, skiprows=14, usecols=\"D\")\n",
    "    \n",
    "    currentNames = sheet[\"Name\"].values\n",
    "\n",
    "    allNames2 = []\n",
    "    for name in currentNames:\n",
    "        if type(name) == str:\n",
    "            allNames2.append(name)\n",
    "    \n",
    "    return np.asarray(allNames2)\n",
    "\n",
    "def findFirstVisible(file):\n",
    "    xls = pd.ExcelFile(file)\n",
    "    sheets = xls.book.sheets()\n",
    "    names = np.array([sheet.name for sheet in sheets])\n",
    "    visibilities = np.array([sheet.visibility for sheet in sheets])\n",
    "    return names[visibilities == 0] [0]\n",
    "\n",
    "def getRowSkip(file = 'tempfile.xls'):\n",
    "    sheetName = findFirstVisible(file)\n",
    "    try:\n",
    "        sheet = pd.read_excel(file, sheet_name=sheetName, skiprows=0, usecols=\"E\")\n",
    "        skip = np.where(sheet.values==[\"Name\"])[0][0]\n",
    "        cols = \"E,F,G\"\n",
    "    except:\n",
    "        sheet = pd.read_excel(file, sheet_name=sheetName, skiprows=0, usecols=\"D\")\n",
    "        skip = np.where(sheet.values==[\"Name\"])[0][0]\n",
    "        cols = \"D,E,F\"\n",
    "    return skip, cols\n",
    "\n",
    "def getSheetData(allNames, skip, cols, file = 'tempfile.xls'):\n",
    "    sheetName = findFirstVisible(file)\n",
    "    sheet = pd.read_excel(file, sheet_name=sheetName, skiprows=skip, usecols=cols)\n",
    "    \n",
    "    SheetVals = sheet.values\n",
    "    \n",
    "    names = SheetVals[1:,0]\n",
    "    attendence = SheetVals[1:,1]\n",
    "    waiting = SheetVals[1:,2]\n",
    "    \n",
    "    return names, attendence, waiting\n",
    "    \n",
    "    \n",
    "def getAnEData_pre2010(dataSets, allNames):\n",
    "    dates = np.zeros(len(dataSets))\n",
    "    waiting = np.zeros((len(dataSets), len(allNames)), dtype = object)\n",
    "    attendence = np.zeros((len(dataSets), len(allNames)), dtype = object)\n",
    "    \n",
    "    missing = []\n",
    "    for i, dataSet in enumerate(dataSets):\n",
    "        getOnlineXLS(dataSet) \n",
    "        skip, cols = getRowSkip('tempfile.xls')\n",
    "        newNames, newAtt, newWait = getSheetData(allNames, skip, cols)\n",
    "        #print(newNames.shape, newAtt.shape, newWait.shape)\n",
    "        for j, name in enumerate(allNames):\n",
    "            if name in newNames:\n",
    "                index = np.where(newNames == name)[0][0]\n",
    "                attendence[i,j] = newAtt[index]\n",
    "                waiting[i,j] = newWait[index]\n",
    "            elif name not in missing:\n",
    "                missing.append(name)\n",
    "                \n",
    "        print(\"{}/{}\\t\\t\".format(i, len(dataSets)), end = \"\\r\")\n",
    "        \n",
    "    return waiting, attendence, missing\n",
    "\n",
    "def plotwaiting(index,ax):\n",
    "    mask = (waiting[:,index]!=\"-\")*(attendence[:,index]!=\"-\")\n",
    "    waitingNum = waiting[:,index][mask]\n",
    "    years = np.linspace(2011+3/8, 2003+1/8, 35)\n",
    "    ax.plot(years,waitingNum*100, \"-\", lw = 3)"
   ]
  },
  {
   "cell_type": "code",
   "execution_count": 2,
   "metadata": {},
   "outputs": [
    {
     "name": "stdout",
     "output_type": "stream",
     "text": [
      "Total of 0 xls files found.\n"
     ]
    }
   ],
   "source": [
    "url = \"https://webarchive.nationalarchives.gov.uk/20130105020054/http://www.dh.gov.uk/en/Publicationsandstatistics/Statistics/Performancedataandstatistics/AccidentandEmergency/DH_087978\"\n",
    "xls_file_names = get_xls_files([url], verbose = 10)"
   ]
  },
  {
   "cell_type": "code",
   "execution_count": 3,
   "metadata": {},
   "outputs": [
    {
     "ename": "IndexError",
     "evalue": "list index out of range",
     "output_type": "error",
     "traceback": [
      "\u001b[1;31m---------------------------------------------------------------------------\u001b[0m",
      "\u001b[1;31mIndexError\u001b[0m                                Traceback (most recent call last)",
      "\u001b[1;32m<ipython-input-3-63e0c99b2fb7>\u001b[0m in \u001b[0;36m<module>\u001b[1;34m\u001b[0m\n\u001b[1;32m----> 1\u001b[1;33m \u001b[0mallNames\u001b[0m \u001b[1;33m=\u001b[0m \u001b[0mget_all_names\u001b[0m\u001b[1;33m(\u001b[0m\u001b[0mxls_file_names\u001b[0m\u001b[1;33m[\u001b[0m\u001b[1;36m0\u001b[0m\u001b[1;33m]\u001b[0m\u001b[1;33m,\u001b[0m \u001b[0mverbose\u001b[0m \u001b[1;33m=\u001b[0m \u001b[1;36m0\u001b[0m\u001b[1;33m)\u001b[0m\u001b[1;33m\u001b[0m\u001b[1;33m\u001b[0m\u001b[0m\n\u001b[0m",
      "\u001b[1;31mIndexError\u001b[0m: list index out of range"
     ]
    }
   ],
   "source": [
    "allNames = get_all_names(xls_file_names[0], verbose = 0)"
   ]
  },
  {
   "cell_type": "code",
   "execution_count": null,
   "metadata": {},
   "outputs": [],
   "source": [
    "waiting, attendence, missing = getAnEData_pre2010(xls_file_names, allNames)"
   ]
  },
  {
   "cell_type": "code",
   "execution_count": null,
   "metadata": {},
   "outputs": [],
   "source": [
    "NewNames, Newperiods, NewWaiting = np.load(\"type1_post2010.npy\", allow_pickle = True)  "
   ]
  },
  {
   "cell_type": "code",
   "execution_count": null,
   "metadata": {},
   "outputs": [],
   "source": [
    "import matplotlib.pyplot as plt\n",
    "import matplotlib.image as mpimg\n",
    "import matplotlib\n",
    "matplotlib.rcParams['mathtext.fontset'] = 'stix'\n",
    "matplotlib.rcParams['font.family'] = 'sans-serif'\n",
    "matplotlib.rc('font', size=20)\n",
    "\n",
    "dates = np.asarray(Newperiods)\n",
    "bins = np.arange(2011.25, 2021.25, 0.25)\n",
    "# Convert date into quarterly \n",
    "sampled_dates = []\n",
    "sampled_values = []\n",
    "for i in range(len(bins)-1):\n",
    "    sampled_dates.append(np.mean(dates[(dates > bins[i])*(dates <= bins[i+1])]))\n",
    "    sampled_values.append(np.mean(NewWaiting[0][(dates > bins[i])*(dates <= bins[i+1])]))\n",
    "    \n",
    "fig = plt.figure(figsize = (9,6))\n",
    "ax = fig.add_subplot(111)\n",
    "    \n",
    "# 2005\n",
    "e1 = 2005 + 4/12 + 5/365\n",
    "ax.plot([e1, e1], [0,64], \"-\", color = \"gray\")\n",
    "ax.plot([e1, e1], [77,100], \"-\", color = \"gray\")\n",
    "ax.fill_between([2000, e1], [0,0], [100, 100], color = \"r\", alpha = 0.3, lw=0)\n",
    "\n",
    "# 2010\n",
    "e2 = 2010 + 4/12 + 6/365\n",
    "ax.plot([e2, e2], [0,100], \"-\", color = \"gray\")\n",
    "\n",
    "ax.fill_between([e1, e2], [0,0], [100, 100], color = \"r\", alpha = 0.3, lw=0)\n",
    "\n",
    "\n",
    "# 2015\n",
    "e3 = 2015 + 4/12 + 7/365\n",
    "ax.plot([e3, e3], [0,100], \"-\", color = \"gray\")\n",
    "\n",
    "\n",
    "for i in range(0,10):\n",
    "    x = np.linspace(e2, e3, 100)\n",
    "    y1 = 50 + i*5 + (x-e1)\n",
    "    \n",
    "    if i % 2:\n",
    "        ax.fill_between(x, y1, y1+5, color = \"b\", alpha = 0.3,lw=0)\n",
    "    else:\n",
    "        ax.fill_between(x, y1, y1+5, color = \"y\", alpha = 0.5,lw=0)\n",
    "\n",
    "# 2017\n",
    "e4 = 2017 + 5/12 + 8/365\n",
    "ax.plot([e4, e4], [0,85], \"-\", color = \"gray\")\n",
    "ax.plot([e4, e4], [99.5,100], \"-\", color = \"gray\")\n",
    "ax.fill_between([e3, e4], [0,0], [100, 100], color = \"b\", alpha = 0.3,lw=0)\n",
    "\n",
    "# 2019\n",
    "e5 = 2019 + 11/12 + 12/365\n",
    "ax.plot([e5, e5], [0,62.8], \"-\", color = \"gray\")\n",
    "ax.plot([e5, e5], [76.5,100], \"-\", color = \"gray\")\n",
    "ax.fill_between([e4, e5], [0,0], [100, 100], color = \"b\", alpha = 0.3,lw=0)\n",
    "\n",
    "ax.fill_between([e5, 2024], [0,0], [100, 100], color = \"b\", alpha = 0.3,lw=0)\n",
    "\n",
    "\n",
    "sampled_values = np.asarray(sampled_values)\n",
    "sampled_dates = np.asarray(sampled_dates)\n",
    "years = np.linspace(2011+3/8, 2003+1/8, 35)\n",
    "\n",
    "all_waiting = np.concatenate((waiting[:,0][::-1], sampled_values))\n",
    "all_dates = np.concatenate((years[::-1], sampled_dates))\n",
    "\n",
    "from scipy.interpolate import interp1d\n",
    "\n",
    "waiting_interp = interp1d(all_dates, all_waiting)\n",
    "x = np.linspace(min(all_dates), max(all_dates), 100000)\n",
    "y = waiting_interp(x)*100\n",
    "\n",
    "path_effects=[pe.Stroke(linewidth=6, foreground='k'), pe.Normal(), \n",
    "              pe.SimpleLineShadow(alpha = 0.4, offset=(2,-2))]\n",
    "\n",
    "mask1 = y >= 95\n",
    "mask2 = y <= 95\n",
    "\n",
    "ax.plot(x[mask2 * (x<2004.9)], y[mask2 * (x<2004.9)], \"-\", lw=3, color = \"#e60000\",path_effects = path_effects)\n",
    "ax.plot(x[(x>2010.5)], y[(x>2010.5)], \"-\", lw=3, color = \"#e60000\", path_effects = path_effects)\n",
    "ax.plot(x[mask1], y[mask1], \"-\", lw=3, color = \"#33cc33\", path_effects = path_effects)\n",
    "ax.plot([2002, 2021], [95, 95], \"-\", lw = 2, color = \"k\", path_effects = path_effects)\n",
    "ax.plot([2002, 2021], [95, 95], \"--\", lw = 2, color = \"yellow\", path_effects = path_effects)\n",
    "ax.annotate(\"(Old) 95% Target\", (2014, 96), size = 18)\n",
    "ax.axis([2002.5, 2021, 60, 100])\n",
    "ax.set_xticks(np.arange(2005, 2025, 5))\n",
    "\n",
    "def rgb2gray(rgb):\n",
    "    r, g, b = rgb[:,:,0], rgb[:,:,1], rgb[:,:,2]\n",
    "    gray = 0.2989 * r + 0.5870 * g + 0.1140 * b\n",
    "    return gray\n",
    "\n",
    "def plotFace(file, x0, y0, ax):\n",
    "    img = mpimg.imread(file)\n",
    "    img = rgb2gray(img)\n",
    "    ax.imshow(img, extent = (x0, x0+4, y0, y0+15),aspect='auto', cmap = \"gray\")\n",
    "    \n",
    "plotFace(\"../../Faces/blair.png\", 2003, 63, ax)\n",
    "plotFace(\"../../Faces/brown.png\", 2006, 78, ax)\n",
    "plotFace(\"../../Faces/cameron.png\", 2011, 80, ax)\n",
    "plotFace(\"../../Faces/clegg.jpg\", 2011, 62, ax)\n",
    "plotFace(\"../../Faces/may.jpg\", 2015.5, 85, ax)\n",
    "plotFace(\"../../Faces/johnson.png\", 2017.3, 62, ax)\n",
    "ax.set_title(\"% of A&E patients who receive\\ncare within 4 hours*\")\n",
    "plt.savefig(\"type1Overtime.png\",dpi = 100)"
   ]
  },
  {
   "cell_type": "code",
   "execution_count": null,
   "metadata": {},
   "outputs": [],
   "source": [
    "640*16/9"
   ]
  },
  {
   "cell_type": "code",
   "execution_count": 4,
   "metadata": {},
   "outputs": [],
   "source": [
    "NewNames, Newperiods, NewWaiting = np.load(\"type1_post2010.npy\", allow_pickle = True)  "
   ]
  },
  {
   "cell_type": "code",
   "execution_count": 8,
   "metadata": {},
   "outputs": [
    {
     "data": {
      "image/png": "[encoded data removed]",
      "text/plain": [
       "<Figure size 576x288 with 1 Axes>"
      ]
     },
     "metadata": {
      "needs_background": "light"
     },
     "output_type": "display_data"
    }
   ],
   "source": [
    "import matplotlib.pyplot as plt\n",
    "from scipy.interpolate import interp1d\n",
    "import matplotlib\n",
    "matplotlib.rcParams['mathtext.fontset'] = 'stix'\n",
    "matplotlib.rcParams['font.family'] = 'STIXGeneral'\n",
    "matplotlib.rc('font', size=18)\n",
    "\n",
    "waiting_interp = interp1d(Newperiods, NewWaiting[NewNames == \"England\"][0])\n",
    "years = np.linspace(2011, 2021, 200)\n",
    "\n",
    "fig = plt.figure(figsize = (8,4))\n",
    "plt.plot(years, waiting_interp(years)*100, lw = 2.5, color = \"#33cccc\")\n",
    "plt.ylabel(\"% of A&E patients who receive\\ncare within 4 hours\")\n",
    "plt.xlim(2011, 2021.5)\n",
    "plt.annotate(\"(Old) 95% Target\", (2017, 92), size = 16)\n",
    "plt.plot([2002, 2021.5], [95, 95], \"--\", lw = 2.5, color = \"k\")\n",
    "plt.savefig(\"AnE_England.pdf\", bbox_inches = \"tight\")"
   ]
  },
  {
   "cell_type": "code",
   "execution_count": null,
   "metadata": {},
   "outputs": [],
   "source": []
  }
 ],
 "metadata": {
  "kernelspec": {
   "display_name": "Python 3",
   "language": "python",
   "name": "python3"
  },
  "language_info": {
   "codemirror_mode": {
    "name": "ipython",
    "version": 3
   },
   "file_extension": ".py",
   "mimetype": "text/x-python",
   "name": "python",
   "nbconvert_exporter": "python",
   "pygments_lexer": "ipython3",
   "version": "3.8.8"
  }
 },
 "nbformat": 4,
 "nbformat_minor": 4
}
